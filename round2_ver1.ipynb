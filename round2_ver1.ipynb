{
 "cells": [
  {
   "cell_type": "code",
   "execution_count": 67,
   "metadata": {},
   "outputs": [],
   "source": [
    "%matplotlib inline\n",
    "import numpy as np\n",
    "import pandas as pd\n",
    "import matplotlib.pyplot as plt\n",
    "import seaborn as sns; sns.set()\n",
    "import lightgbm as lgb\n",
    "import xgboost as xgb\n",
    "from itertools import chain, combinations\n",
    "from sklearn.preprocessing import StandardScaler\n",
    "from sklearn.linear_model import LogisticRegression\n",
    "from sklearn.model_selection import cross_val_predict\n",
    "from sklearn.metrics import mean_squared_error"
   ]
  },
  {
   "cell_type": "code",
   "execution_count": 2,
   "metadata": {},
   "outputs": [
    {
     "data": {
      "text/html": [
       "<div>\n",
       "<style scoped>\n",
       "    .dataframe tbody tr th:only-of-type {\n",
       "        vertical-align: middle;\n",
       "    }\n",
       "\n",
       "    .dataframe tbody tr th {\n",
       "        vertical-align: top;\n",
       "    }\n",
       "\n",
       "    .dataframe thead th {\n",
       "        text-align: right;\n",
       "    }\n",
       "</style>\n",
       "<table border=\"1\" class=\"dataframe\">\n",
       "  <thead>\n",
       "    <tr style=\"text-align: right;\">\n",
       "      <th></th>\n",
       "      <th>App</th>\n",
       "      <th>Reviews</th>\n",
       "      <th>Size</th>\n",
       "      <th>Installs</th>\n",
       "      <th>Type</th>\n",
       "      <th>Price</th>\n",
       "      <th>Content Rating</th>\n",
       "      <th>Genres</th>\n",
       "      <th>Rating</th>\n",
       "    </tr>\n",
       "  </thead>\n",
       "  <tbody>\n",
       "    <tr>\n",
       "      <th>0</th>\n",
       "      <td>CBS Sports App - Scores, News, Stats &amp; Watch Live</td>\n",
       "      <td>91031</td>\n",
       "      <td>Varies with device</td>\n",
       "      <td>5,000,000+</td>\n",
       "      <td>Free</td>\n",
       "      <td>0</td>\n",
       "      <td>Everyone</td>\n",
       "      <td>Sports</td>\n",
       "      <td>4.3</td>\n",
       "    </tr>\n",
       "    <tr>\n",
       "      <th>1</th>\n",
       "      <td>Babbel – Learn Languages</td>\n",
       "      <td>266948</td>\n",
       "      <td>21M</td>\n",
       "      <td>10,000,000+</td>\n",
       "      <td>Free</td>\n",
       "      <td>0</td>\n",
       "      <td>Everyone</td>\n",
       "      <td>Education</td>\n",
       "      <td>4.3</td>\n",
       "    </tr>\n",
       "    <tr>\n",
       "      <th>2</th>\n",
       "      <td>Feel Performer</td>\n",
       "      <td>62</td>\n",
       "      <td>34M</td>\n",
       "      <td>10,000+</td>\n",
       "      <td>Free</td>\n",
       "      <td>0</td>\n",
       "      <td>Everyone</td>\n",
       "      <td>Communication</td>\n",
       "      <td>2.3</td>\n",
       "    </tr>\n",
       "    <tr>\n",
       "      <th>3</th>\n",
       "      <td>LG Hi-Fi Plus Manager</td>\n",
       "      <td>154</td>\n",
       "      <td>3.4M</td>\n",
       "      <td>10,000+</td>\n",
       "      <td>Free</td>\n",
       "      <td>0</td>\n",
       "      <td>Everyone</td>\n",
       "      <td>Tools</td>\n",
       "      <td>3.4</td>\n",
       "    </tr>\n",
       "    <tr>\n",
       "      <th>4</th>\n",
       "      <td>Browser 4G</td>\n",
       "      <td>192948</td>\n",
       "      <td>6.6M</td>\n",
       "      <td>10,000,000+</td>\n",
       "      <td>Free</td>\n",
       "      <td>0</td>\n",
       "      <td>Everyone</td>\n",
       "      <td>Communication</td>\n",
       "      <td>4.3</td>\n",
       "    </tr>\n",
       "    <tr>\n",
       "      <th>5</th>\n",
       "      <td>Google Ads</td>\n",
       "      <td>29313</td>\n",
       "      <td>20M</td>\n",
       "      <td>5,000,000+</td>\n",
       "      <td>Free</td>\n",
       "      <td>0</td>\n",
       "      <td>Everyone</td>\n",
       "      <td>Business</td>\n",
       "      <td>4.4</td>\n",
       "    </tr>\n",
       "    <tr>\n",
       "      <th>6</th>\n",
       "      <td>Q Alerts: QAnon Drop Notifications, Research +++</td>\n",
       "      <td>143</td>\n",
       "      <td>26M</td>\n",
       "      <td>5,000+</td>\n",
       "      <td>Paid</td>\n",
       "      <td>$0.99</td>\n",
       "      <td>Mature 17+</td>\n",
       "      <td>News &amp; Magazines</td>\n",
       "      <td>4.6</td>\n",
       "    </tr>\n",
       "    <tr>\n",
       "      <th>7</th>\n",
       "      <td>Fruit Ninja®</td>\n",
       "      <td>5091448</td>\n",
       "      <td>41M</td>\n",
       "      <td>100,000,000+</td>\n",
       "      <td>Free</td>\n",
       "      <td>0</td>\n",
       "      <td>Everyone</td>\n",
       "      <td>Arcade</td>\n",
       "      <td>4.3</td>\n",
       "    </tr>\n",
       "    <tr>\n",
       "      <th>8</th>\n",
       "      <td>Air Transat CinePlus B</td>\n",
       "      <td>83</td>\n",
       "      <td>6.7M</td>\n",
       "      <td>50,000+</td>\n",
       "      <td>Free</td>\n",
       "      <td>0</td>\n",
       "      <td>Everyone</td>\n",
       "      <td>Travel &amp; Local</td>\n",
       "      <td>2.2</td>\n",
       "    </tr>\n",
       "    <tr>\n",
       "      <th>9</th>\n",
       "      <td>EU-Schwerbehinderung</td>\n",
       "      <td>3</td>\n",
       "      <td>32M</td>\n",
       "      <td>100+</td>\n",
       "      <td>Free</td>\n",
       "      <td>0</td>\n",
       "      <td>Everyone 10+</td>\n",
       "      <td>NaN</td>\n",
       "      <td>4.1</td>\n",
       "    </tr>\n",
       "  </tbody>\n",
       "</table>\n",
       "</div>"
      ],
      "text/plain": [
       "                                                 App  Reviews  \\\n",
       "0  CBS Sports App - Scores, News, Stats & Watch Live    91031   \n",
       "1                           Babbel – Learn Languages   266948   \n",
       "2                                     Feel Performer       62   \n",
       "3                              LG Hi-Fi Plus Manager      154   \n",
       "4                                         Browser 4G   192948   \n",
       "5                                         Google Ads    29313   \n",
       "6   Q Alerts: QAnon Drop Notifications, Research +++      143   \n",
       "7                                       Fruit Ninja®  5091448   \n",
       "8                             Air Transat CinePlus B       83   \n",
       "9                               EU-Schwerbehinderung        3   \n",
       "\n",
       "                 Size      Installs  Type  Price Content Rating  \\\n",
       "0  Varies with device    5,000,000+  Free      0       Everyone   \n",
       "1                 21M   10,000,000+  Free      0       Everyone   \n",
       "2                 34M       10,000+  Free      0       Everyone   \n",
       "3                3.4M       10,000+  Free      0       Everyone   \n",
       "4                6.6M   10,000,000+  Free      0       Everyone   \n",
       "5                 20M    5,000,000+  Free      0       Everyone   \n",
       "6                 26M        5,000+  Paid  $0.99     Mature 17+   \n",
       "7                 41M  100,000,000+  Free      0       Everyone   \n",
       "8                6.7M       50,000+  Free      0       Everyone   \n",
       "9                 32M          100+  Free      0   Everyone 10+   \n",
       "\n",
       "             Genres  Rating  \n",
       "0            Sports     4.3  \n",
       "1         Education     4.3  \n",
       "2     Communication     2.3  \n",
       "3             Tools     3.4  \n",
       "4     Communication     4.3  \n",
       "5          Business     4.4  \n",
       "6  News & Magazines     4.6  \n",
       "7            Arcade     4.3  \n",
       "8    Travel & Local     2.2  \n",
       "9               NaN     4.1  "
      ]
     },
     "execution_count": 2,
     "metadata": {},
     "output_type": "execute_result"
    }
   ],
   "source": [
    "df_train = pd.read_csv('data/googleplay-train.csv')\n",
    "df_test = pd.read_csv('data/googleplay-test.csv')\n",
    "\n",
    "df_train.head(10)"
   ]
  },
  {
   "cell_type": "code",
   "execution_count": 3,
   "metadata": {},
   "outputs": [
    {
     "data": {
      "text/html": [
       "<div>\n",
       "<style scoped>\n",
       "    .dataframe tbody tr th:only-of-type {\n",
       "        vertical-align: middle;\n",
       "    }\n",
       "\n",
       "    .dataframe tbody tr th {\n",
       "        vertical-align: top;\n",
       "    }\n",
       "\n",
       "    .dataframe thead th {\n",
       "        text-align: right;\n",
       "    }\n",
       "</style>\n",
       "<table border=\"1\" class=\"dataframe\">\n",
       "  <thead>\n",
       "    <tr style=\"text-align: right;\">\n",
       "      <th></th>\n",
       "      <th>App</th>\n",
       "      <th>Reviews</th>\n",
       "      <th>Size</th>\n",
       "      <th>Installs</th>\n",
       "      <th>Type</th>\n",
       "      <th>Price</th>\n",
       "      <th>Content Rating</th>\n",
       "      <th>Genres</th>\n",
       "    </tr>\n",
       "  </thead>\n",
       "  <tbody>\n",
       "    <tr>\n",
       "      <th>0</th>\n",
       "      <td>FP Markets</td>\n",
       "      <td>1</td>\n",
       "      <td>2.0M</td>\n",
       "      <td>100+</td>\n",
       "      <td>Free</td>\n",
       "      <td>0</td>\n",
       "      <td>Everyone</td>\n",
       "      <td>Finance</td>\n",
       "    </tr>\n",
       "    <tr>\n",
       "      <th>1</th>\n",
       "      <td>Diabetes, Blood Pressure, Health Tracker App</td>\n",
       "      <td>309</td>\n",
       "      <td>5.9M</td>\n",
       "      <td>10,000+</td>\n",
       "      <td>Free</td>\n",
       "      <td>0</td>\n",
       "      <td>Everyone</td>\n",
       "      <td>Medical</td>\n",
       "    </tr>\n",
       "    <tr>\n",
       "      <th>2</th>\n",
       "      <td>Frontback - Social Photos</td>\n",
       "      <td>19446</td>\n",
       "      <td>Varies with device</td>\n",
       "      <td>1,000,000+</td>\n",
       "      <td>Free</td>\n",
       "      <td>0</td>\n",
       "      <td>Mature 17+</td>\n",
       "      <td>Social</td>\n",
       "    </tr>\n",
       "    <tr>\n",
       "      <th>3</th>\n",
       "      <td>e-DN - den digitala tidningen från Dagens Nyheter</td>\n",
       "      <td>160</td>\n",
       "      <td>32M</td>\n",
       "      <td>50,000+</td>\n",
       "      <td>Free</td>\n",
       "      <td>0</td>\n",
       "      <td>Everyone 10+</td>\n",
       "      <td>News &amp; Magazines</td>\n",
       "    </tr>\n",
       "    <tr>\n",
       "      <th>4</th>\n",
       "      <td>Roulette Advisor LITE</td>\n",
       "      <td>41</td>\n",
       "      <td>1.4M</td>\n",
       "      <td>5,000+</td>\n",
       "      <td>Free</td>\n",
       "      <td>0</td>\n",
       "      <td>Everyone</td>\n",
       "      <td>Casino</td>\n",
       "    </tr>\n",
       "    <tr>\n",
       "      <th>5</th>\n",
       "      <td>LA Times: Your California News</td>\n",
       "      <td>3311</td>\n",
       "      <td>10M</td>\n",
       "      <td>100,000+</td>\n",
       "      <td>Free</td>\n",
       "      <td>0</td>\n",
       "      <td>Everyone</td>\n",
       "      <td>News &amp; Magazines</td>\n",
       "    </tr>\n",
       "    <tr>\n",
       "      <th>6</th>\n",
       "      <td>English Persian Dictionary</td>\n",
       "      <td>26875</td>\n",
       "      <td>73M</td>\n",
       "      <td>500,000+</td>\n",
       "      <td>Free</td>\n",
       "      <td>0</td>\n",
       "      <td>Everyone</td>\n",
       "      <td>Books &amp; Reference</td>\n",
       "    </tr>\n",
       "    <tr>\n",
       "      <th>7</th>\n",
       "      <td>NOOK: Read eBooks &amp; Magazines</td>\n",
       "      <td>155446</td>\n",
       "      <td>Varies with device</td>\n",
       "      <td>10,000,000+</td>\n",
       "      <td>Free</td>\n",
       "      <td>0</td>\n",
       "      <td>Teen</td>\n",
       "      <td>Books &amp; Reference</td>\n",
       "    </tr>\n",
       "    <tr>\n",
       "      <th>8</th>\n",
       "      <td>BSC IT</td>\n",
       "      <td>847</td>\n",
       "      <td>21M</td>\n",
       "      <td>10,000+</td>\n",
       "      <td>Free</td>\n",
       "      <td>0</td>\n",
       "      <td>Everyone</td>\n",
       "      <td>Education</td>\n",
       "    </tr>\n",
       "    <tr>\n",
       "      <th>9</th>\n",
       "      <td>HTC Speak</td>\n",
       "      <td>6145</td>\n",
       "      <td>13M</td>\n",
       "      <td>10,000,000+</td>\n",
       "      <td>Free</td>\n",
       "      <td>0</td>\n",
       "      <td>Everyone</td>\n",
       "      <td>Lifestyle</td>\n",
       "    </tr>\n",
       "  </tbody>\n",
       "</table>\n",
       "</div>"
      ],
      "text/plain": [
       "                                                 App Reviews  \\\n",
       "0                                         FP Markets       1   \n",
       "1       Diabetes, Blood Pressure, Health Tracker App     309   \n",
       "2                          Frontback - Social Photos   19446   \n",
       "3  e-DN - den digitala tidningen från Dagens Nyheter     160   \n",
       "4                              Roulette Advisor LITE      41   \n",
       "5                     LA Times: Your California News    3311   \n",
       "6                         English Persian Dictionary   26875   \n",
       "7                      NOOK: Read eBooks & Magazines  155446   \n",
       "8                                             BSC IT     847   \n",
       "9                                          HTC Speak    6145   \n",
       "\n",
       "                 Size     Installs  Type Price Content Rating  \\\n",
       "0                2.0M         100+  Free     0       Everyone   \n",
       "1                5.9M      10,000+  Free     0       Everyone   \n",
       "2  Varies with device   1,000,000+  Free     0     Mature 17+   \n",
       "3                 32M      50,000+  Free     0   Everyone 10+   \n",
       "4                1.4M       5,000+  Free     0       Everyone   \n",
       "5                 10M     100,000+  Free     0       Everyone   \n",
       "6                 73M     500,000+  Free     0       Everyone   \n",
       "7  Varies with device  10,000,000+  Free     0           Teen   \n",
       "8                 21M      10,000+  Free     0       Everyone   \n",
       "9                 13M  10,000,000+  Free     0       Everyone   \n",
       "\n",
       "              Genres  \n",
       "0            Finance  \n",
       "1            Medical  \n",
       "2             Social  \n",
       "3   News & Magazines  \n",
       "4             Casino  \n",
       "5   News & Magazines  \n",
       "6  Books & Reference  \n",
       "7  Books & Reference  \n",
       "8          Education  \n",
       "9          Lifestyle  "
      ]
     },
     "execution_count": 3,
     "metadata": {},
     "output_type": "execute_result"
    }
   ],
   "source": [
    "df_test.head(10)"
   ]
  },
  {
   "cell_type": "code",
   "execution_count": 4,
   "metadata": {},
   "outputs": [
    {
     "data": {
      "text/plain": [
       "App                object\n",
       "Reviews             int64\n",
       "Size               object\n",
       "Installs           object\n",
       "Type               object\n",
       "Price              object\n",
       "Content Rating     object\n",
       "Genres             object\n",
       "Rating            float64\n",
       "dtype: object"
      ]
     },
     "execution_count": 4,
     "metadata": {},
     "output_type": "execute_result"
    }
   ],
   "source": [
    "df_train.dtypes"
   ]
  },
  {
   "cell_type": "code",
   "execution_count": 5,
   "metadata": {},
   "outputs": [
    {
     "data": {
      "text/plain": [
       "Everyone           6298\n",
       "Teen                848\n",
       "Mature 17+          319\n",
       "Everyone 10+        261\n",
       "Unrated               1\n",
       "Adults only 18+       1\n",
       "Name: Content Rating, dtype: int64"
      ]
     },
     "execution_count": 5,
     "metadata": {},
     "output_type": "execute_result"
    }
   ],
   "source": [
    "df_train['Content Rating'].value_counts()"
   ]
  },
  {
   "cell_type": "code",
   "execution_count": 6,
   "metadata": {},
   "outputs": [
    {
     "data": {
      "text/plain": [
       "Everyone           1605\n",
       "Teen                188\n",
       "Mature 17+           74\n",
       "Everyone 10+         61\n",
       "Adults only 18+       2\n",
       "Unrated               1\n",
       "Name: Content Rating, dtype: int64"
      ]
     },
     "execution_count": 6,
     "metadata": {},
     "output_type": "execute_result"
    }
   ],
   "source": [
    "df_test['Content Rating'].value_counts()"
   ]
  },
  {
   "cell_type": "code",
   "execution_count": 7,
   "metadata": {},
   "outputs": [
    {
     "data": {
      "text/plain": [
       "App               7728\n",
       "Reviews           4392\n",
       "Size               406\n",
       "Installs            21\n",
       "Type                 2\n",
       "Price               81\n",
       "Content Rating       6\n",
       "Genres             112\n",
       "Rating              41\n",
       "dtype: int64"
      ]
     },
     "execution_count": 7,
     "metadata": {},
     "output_type": "execute_result"
    }
   ],
   "source": [
    "df_train.nunique()"
   ]
  },
  {
   "cell_type": "code",
   "execution_count": 8,
   "metadata": {},
   "outputs": [
    {
     "data": {
      "image/png": "[encoded data removed]",
      "text/plain": [
       "<Figure size 432x288 with 1 Axes>"
      ]
     },
     "metadata": {
      "needs_background": "light"
     },
     "output_type": "display_data"
    }
   ],
   "source": [
    "df_train['Rating'].plot(kind='hist');"
   ]
  },
  {
   "cell_type": "code",
   "execution_count": 9,
   "metadata": {},
   "outputs": [
    {
     "data": {
      "image/png": "[encoded data removed]",
      "text/plain": [
       "<Figure size 576x576 with 4 Axes>"
      ]
     },
     "metadata": {
      "needs_background": "light"
     },
     "output_type": "display_data"
    }
   ],
   "source": [
    "rating = (df_train.Rating - 0.999) / 4.01\n",
    "\n",
    "trans_funcs = {'logit': lambda x: np.log(x/(1-x)) \n",
    "              ,'log1p1s': lambda x: 0.5 * np.log((1+x)/(1-x)) \n",
    "              ,'arcsin': lambda x: np.sqrt(np.arcsin(x))}\n",
    "\n",
    "fig, axes = plt.subplots(2, 2, figsize=(8, 8))\n",
    "\n",
    "for ax, func in zip(axes.flat, ['logit', 'log1p1s', 'arcsin']):\n",
    "    sns.distplot(trans_funcs[func](rating), kde=True, bins=120, ax=ax)\n",
    "#    ax.hist(trans_funcs[func](rating), bins=20)"
   ]
  },
  {
   "cell_type": "code",
   "execution_count": 10,
   "metadata": {},
   "outputs": [],
   "source": [
    "def fix_size(x):\n",
    "    if 'M' in x:\n",
    "        return float(x.strip('M'))\n",
    "    else:\n",
    "        return 5.\n",
    "\n",
    "def cleandata(df, test=False):\n",
    "    \n",
    "    df.loc[df['Content Rating']=='Unrated', 'Content Rating'] = 'Everyone'\n",
    "    df['Genres']=df['Genres'].fillna('OtherGenre')\n",
    "    \n",
    "    if test:\n",
    "        df.loc[df['Genres']=='February 11, 2018', 'Genres'] = 'OtherGenre'\n",
    "        df.loc[df['Installs']=='Free', 'Installs'] = '5000+'\n",
    "        df.loc[df['Price']=='Everyone', 'Price'] = '$0'\n",
    "        df.loc[df['Reviews'].str.contains('M'), 'Reviews'] =df.loc[df['Reviews'].str.contains('M'), 'Reviews'].str.replace('\\\\.0M', '000000')\n",
    "        df['Reviews'] = df['Reviews'].astype(np.int64)\n",
    "    else:\n",
    "        df.loc[df['Genres'].str.contains('Music & Audio'), 'Genres'] = df.loc[df['Genres'].str.contains('Music & Audio'), 'Genres'].str.replace('Music & Audio', 'Music')\n",
    "        \n",
    "    df.loc[df['Genres'].str.contains('Educational'), 'Genres'] = df.loc[df['Genres'].str.contains('Educational'), 'Genres'].str.replace('Educational', 'Education')\n",
    "    df['Size']=df['Size'].map(fix_size)\n",
    "    df['Installs']=df['Installs'].str.replace('[+,]', '').astype(np.float64)\n",
    "    df['Price']=df['Price'].str.strip('$').astype(np.float32)\n",
    "    \n",
    "    return df\n",
    "\n",
    "df_train = cleandata(df_train)\n",
    "df_test = cleandata(df_test, test=True)"
   ]
  },
  {
   "cell_type": "code",
   "execution_count": 11,
   "metadata": {},
   "outputs": [],
   "source": [
    "def get_genres(series):\n",
    "    \n",
    "    genres_list = series.str.split(';')\n",
    "    genres_all = list(chain.from_iterable(genres_list))\n",
    "    \n",
    "    return np.unique(genres_all)\n",
    "\n",
    "genre_cates = get_genres(df_train['Genres'])"
   ]
  },
  {
   "cell_type": "code",
   "execution_count": 12,
   "metadata": {},
   "outputs": [
    {
     "data": {
      "text/plain": [
       "array(['Action', 'Action & Adventure', 'Adventure', 'Arcade',\n",
       "       'Art & Design', 'Auto & Vehicles', 'Beauty', 'Board',\n",
       "       'Books & Reference', 'Brain Games', 'Business', 'Card', 'Casino',\n",
       "       'Casual', 'Comics', 'Communication', 'Creativity', 'Dating',\n",
       "       'Education', 'Entertainment', 'Events', 'Finance', 'Food & Drink',\n",
       "       'Health & Fitness', 'House & Home', 'Libraries & Demo',\n",
       "       'Lifestyle', 'Maps & Navigation', 'Medical', 'Music',\n",
       "       'Music & Video', 'News & Magazines', 'OtherGenre', 'Parenting',\n",
       "       'Personalization', 'Photography', 'Pretend Play', 'Productivity',\n",
       "       'Puzzle', 'Racing', 'Role Playing', 'Shopping', 'Simulation',\n",
       "       'Social', 'Sports', 'Strategy', 'Tools', 'Travel & Local',\n",
       "       'Trivia', 'Video Players & Editors', 'Weather', 'Word'],\n",
       "      dtype='<U23')"
      ]
     },
     "execution_count": 12,
     "metadata": {},
     "output_type": "execute_result"
    }
   ],
   "source": [
    "genre_cates"
   ]
  },
  {
   "cell_type": "code",
   "execution_count": 13,
   "metadata": {},
   "outputs": [
    {
     "data": {
      "image/png": "[encoded data removed]",
      "text/plain": [
       "<Figure size 1152x1080 with 4 Axes>"
      ]
     },
     "metadata": {
      "needs_background": "light"
     },
     "output_type": "display_data"
    }
   ],
   "source": [
    "fig, axes = plt.subplots(2, 2, figsize=(16, 15))\n",
    "\n",
    "for ax, name in zip(axes.flat, ['Reviews', 'Installs', 'Size', 'Price']):\n",
    "    sns.distplot(np.log1p(df_train[name]), ax=ax)"
   ]
  },
  {
   "cell_type": "code",
   "execution_count": 14,
   "metadata": {},
   "outputs": [],
   "source": [
    "df_all = pd.concat((df_train.drop('Rating', axis=1), df_test))"
   ]
  },
  {
   "cell_type": "code",
   "execution_count": 73,
   "metadata": {},
   "outputs": [
    {
     "data": {
      "text/plain": [
       "Index(['Reviews', 'Size', 'Installs', 'Reviews_squared', 'Size_squared',\n",
       "       'Installs_squared', 'Reviews_Size', 'Reviews_Installs', 'Size_Installs',\n",
       "       'Type', 'Adults only 18+', 'Everyone', 'Everyone 10+', 'Mature 17+',\n",
       "       'Teen', 'Action', 'Action & Adventure', 'Adventure', 'Arcade',\n",
       "       'Art & Design', 'Auto & Vehicles', 'Beauty', 'Board',\n",
       "       'Books & Reference', 'Brain Games', 'Business', 'Card', 'Casino',\n",
       "       'Casual', 'Comics', 'Communication', 'Creativity', 'Dating',\n",
       "       'Education', 'Entertainment', 'Events', 'Finance', 'Food & Drink',\n",
       "       'Health & Fitness', 'House & Home', 'Libraries & Demo', 'Lifestyle',\n",
       "       'Maps & Navigation', 'Medical', 'Music', 'Music & Video',\n",
       "       'News & Magazines', 'OtherGenre', 'Parenting', 'Personalization',\n",
       "       'Photography', 'Pretend Play', 'Productivity', 'Puzzle', 'Racing',\n",
       "       'Role Playing', 'Shopping', 'Simulation', 'Social', 'Sports',\n",
       "       'Strategy', 'Tools', 'Travel & Local', 'Trivia',\n",
       "       'Video Players & Editors', 'Weather', 'Word'],\n",
       "      dtype='object')"
      ]
     },
     "execution_count": 73,
     "metadata": {},
     "output_type": "execute_result"
    }
   ],
   "source": [
    "def preparedata(df, genres):\n",
    "    \n",
    "    df_output = np.log1p(df[['Reviews', 'Size', \"Installs\"]])\n",
    "    for name in ['Reviews', 'Size', \"Installs\"]:\n",
    "        df_output[name+'_squared'] = np.power(df_output[name], 2)\n",
    "        \n",
    "    for var1, var2 in combinations(['Reviews', 'Size', \"Installs\"], 2):\n",
    "        df_output[var1 + '_' + var2] = df_output[var1] * df_output[var2]\n",
    "        \n",
    "    cont_vars =list(df_output.columns)\n",
    "    df_temp = pd.DataFrame()\n",
    "    \n",
    "    for genre in genres:\n",
    "        df_temp[genre] = pd.Series(df['Genres'].str.contains(genre), dtype=np.int32)\n",
    "#        for cont_var in cont_vars:\n",
    "#            df_output[cont_var + '_in_' + genre] = df_output[cont_var] * df_temp[genre]\n",
    "        \n",
    "    df_output['Type'] = pd.Series(df['Type']=='Free', dtype=np.int32)\n",
    "    \n",
    "    df_output = pd.concat((df_output, pd.get_dummies(df['Content Rating']), df_temp), axis=1)\n",
    "    \n",
    "    return df_output\n",
    "\n",
    "df_all2 = preparedata(df_all, genre_cates)\n",
    "feature_names = list(df_all2.columns)\n",
    "df_all2.columns"
   ]
  },
  {
   "cell_type": "code",
   "execution_count": 74,
   "metadata": {},
   "outputs": [],
   "source": [
    "normalizer = StandardScaler()\n",
    "X_left = normalizer.fit_transform(df_all2.iloc[:, :9].values)"
   ]
  },
  {
   "cell_type": "code",
   "execution_count": 75,
   "metadata": {},
   "outputs": [],
   "source": [
    "X = np.hstack((X_left, df_all2.iloc[:, 9:])).astype(np.float32)\n",
    "X_train, X_test = X[:len(df_train),:], X[len(df_train):,:]\n",
    "Y_train = df_train['Rating'].values.astype(np.float32)"
   ]
  },
  {
   "cell_type": "code",
   "execution_count": 76,
   "metadata": {},
   "outputs": [],
   "source": [
    "trans_funcs['identity'] = lambda x: x\n",
    "trans_funcs['invidentity'] = lambda y: y\n",
    "trans_funcs['norm'] = lambda x: (x - 0.999) / 4.01\n",
    "trans_funcs['invnorm'] = lambda y: np.clip(y * 4.01 + 0.999, 1., 5.)\n",
    "trans_funcs['invlogit'] = lambda y: 1 / (1 + np.exp(-y))\n",
    "trans_funcs['invlog1pls'] = lambda y: (np.exp(2.*y) - 1)/(np.exp(2.*y) + 1)\n",
    "trans_funcs['invarcsin'] = lambda y: np.sin(np.power(y, 2))"
   ]
  },
  {
   "cell_type": "code",
   "execution_count": 77,
   "metadata": {},
   "outputs": [],
   "source": [
    "def cust_cv(mod, X, Y, dict_funcs, fun='identity'):\n",
    "    Y_norm = dict_funcs['norm'](Y)\n",
    "    Y_end = dict_funcs[fun](Y_norm)\n",
    "    \n",
    "    Y_pred = cross_val_predict(mod, X, Y, cv=10)\n",
    "    \n",
    "    Y_pred = dict_funcs['inv' + fun](Y_pred)\n",
    "    Y_pred = dict_funcs['invnorm'](Y_pred)\n",
    "    \n",
    "    return np.sqrt(mean_squared_error(Y, Y_pred))"
   ]
  },
  {
   "cell_type": "code",
   "execution_count": 80,
   "metadata": {},
   "outputs": [],
   "source": [
    "mod1 = lgb.LGBMRegressor(boosting_type='gbdt',\n",
    "                         objective='regression',\n",
    "                         num_leaves=255)"
   ]
  },
  {
   "cell_type": "code",
   "execution_count": 81,
   "metadata": {},
   "outputs": [
    {
     "data": {
      "text/plain": [
       "0.9693210811887996"
      ]
     },
     "execution_count": 81,
     "metadata": {},
     "output_type": "execute_result"
    }
   ],
   "source": [
    "cust_cv(mod1, X_train, Y_train, dict_funcs=trans_funcs)"
   ]
  },
  {
   "cell_type": "code",
   "execution_count": 71,
   "metadata": {},
   "outputs": [],
   "source": [
    "mod2 = xgb.XGBRegressor(objective='reg:linear', learning_rate=0.1, max_depth=6, silent=True)"
   ]
  },
  {
   "cell_type": "code",
   "execution_count": 72,
   "metadata": {},
   "outputs": [
    {
     "data": {
      "text/plain": [
       "0.96932113"
      ]
     },
     "execution_count": 72,
     "metadata": {},
     "output_type": "execute_result"
    }
   ],
   "source": [
    "cust_cv(mod2, X_train, Y_train, dict_funcs=trans_funcs)"
   ]
  },
  {
   "cell_type": "code",
   "execution_count": null,
   "metadata": {},
   "outputs": [],
   "source": []
  }
 ],
 "metadata": {
  "kernelspec": {
   "display_name": "Python 3",
   "language": "python",
   "name": "python3"
  },
  "language_info": {
   "codemirror_mode": {
    "name": "ipython",
    "version": 3
   },
   "file_extension": ".py",
   "mimetype": "text/x-python",
   "name": "python",
   "nbconvert_exporter": "python",
   "pygments_lexer": "ipython3",
   "version": "3.7.3"
  }
 },
 "nbformat": 4,
 "nbformat_minor": 2
}
